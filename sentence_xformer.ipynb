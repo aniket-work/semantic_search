{
  "nbformat": 4,
  "nbformat_minor": 0,
  "metadata": {
    "colab": {
      "provenance": [],
      "authorship_tag": "ABX9TyOY6sJQayvsLCaqUrrwADcE",
      "include_colab_link": true
    },
    "kernelspec": {
      "name": "python3",
      "display_name": "Python 3"
    },
    "language_info": {
      "name": "python"
    }
  },
  "cells": [
    {
      "cell_type": "markdown",
      "metadata": {
        "id": "view-in-github",
        "colab_type": "text"
      },
      "source": [
        "<a href=\"https://colab.research.google.com/github/aniket-work/semantic_search/blob/main/sentence_xformer.ipynb\" target=\"_parent\"><img src=\"https://colab.research.google.com/assets/colab-badge.svg\" alt=\"Open In Colab\"/></a>"
      ]
    },
    {
      "cell_type": "code",
      "execution_count": null,
      "metadata": {
        "id": "tzh_lCBrPas-"
      },
      "outputs": [],
      "source": [
        "!pip install sentence-transformers"
      ]
    },
    {
      "cell_type": "code",
      "source": [
        "from sentence_transformers import SentenceTransformer\n",
        "model = SentenceTransformer(\"all-mpnet-base-v2\")"
      ],
      "metadata": {
        "id": "BE2DBjqBPybo"
      },
      "execution_count": null,
      "outputs": []
    },
    {
      "cell_type": "code",
      "source": [
        "sentences = {\n",
        "    \"it cought him off guard that space smelled of seared steak\",\n",
        "    \"she could not decide between painting her teeth or brushing her nails\",\n",
        "    \"he thought there'd be sufficient time is he hid his watch\",\n",
        "    \"the bess decided to have a mutiny against their queen\"\n",
        "\n",
        "}"
      ],
      "metadata": {
        "id": "fMukD6igQJJw"
      },
      "execution_count": 5,
      "outputs": []
    },
    {
      "cell_type": "code",
      "source": [
        "embeddings ="
      ],
      "metadata": {
        "id": "xzFeeXYYQ5Cf"
      },
      "execution_count": null,
      "outputs": []
    }
  ]
}